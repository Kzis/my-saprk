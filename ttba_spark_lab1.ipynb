{
  "nbformat": 4,
  "nbformat_minor": 0,
  "metadata": {
    "colab": {
      "name": "ttba-spark-lab1.ipynb",
      "provenance": [],
      "authorship_tag": "ABX9TyMdFgoLHoICyHjpxcVbKo8b",
      "include_colab_link": true
    },
    "kernelspec": {
      "name": "python3",
      "display_name": "Python 3"
    },
    "language_info": {
      "name": "python"
    }
  },
  "cells": [
    {
      "cell_type": "markdown",
      "metadata": {
        "id": "view-in-github",
        "colab_type": "text"
      },
      "source": [
        "<a href=\"https://colab.research.google.com/github/Kzis/my-saprk/blob/main/ttba_spark_lab1.ipynb\" target=\"_parent\"><img src=\"https://colab.research.google.com/assets/colab-badge.svg\" alt=\"Open In Colab\"/></a>"
      ]
    },
    {
      "cell_type": "code",
      "execution_count": 1,
      "metadata": {
        "id": "TlzTW_5YDk1L"
      },
      "outputs": [],
      "source": [
        "!apt-get install openjdk-8-jdk-headless -qq > /dev/null\n",
        "!wget -q https://archive.apache.org/dist/spark/spark-2.4.1/spark-2.4.1-bin-hadoop2.7.tgz\n",
        "!tar xf spark-2.4.1-bin-hadoop2.7.tgz\n",
        "!pip install -q findspark"
      ]
    },
    {
      "cell_type": "code",
      "source": [
        "import os\n",
        "os.environ[\"JAVA_HOME\"] = \"/usr/lib/jvm/java-8-openjdk-amd64\"\n",
        "os.environ[\"SPARK_HOME\"] = \"/content/spark-2.4.1-bin-hadoop2.7\""
      ],
      "metadata": {
        "id": "Jtm6WIO_DnlY"
      },
      "execution_count": 2,
      "outputs": []
    },
    {
      "cell_type": "code",
      "source": [
        "import findspark\n",
        "findspark.init()\n",
        "from pyspark.sql import SparkSession\n",
        "spark = SparkSession.builder.master(\"local[*]\").getOrCreate()"
      ],
      "metadata": {
        "id": "mzK0clM5Dpcq"
      },
      "execution_count": 3,
      "outputs": []
    },
    {
      "cell_type": "code",
      "source": [
        "from pyspark.sql import SparkSession"
      ],
      "metadata": {
        "id": "wKPgwcAmDqly"
      },
      "execution_count": 4,
      "outputs": []
    },
    {
      "cell_type": "code",
      "source": [
        "spark = SparkSession.builder \\\n",
        "   .appName(\"Neural Network Model\") \\\n",
        "   .config(\"spark.executor.memory\", \"3gb\") \\\n",
        "   .getOrCreate()\n",
        "   \n",
        "sc = spark.sparkContext"
      ],
      "metadata": {
        "id": "rqCUqxjMDrth"
      },
      "execution_count": 5,
      "outputs": []
    },
    {
      "cell_type": "code",
      "source": [
        "sc"
      ],
      "metadata": {
        "colab": {
          "base_uri": "https://localhost:8080/",
          "height": 196
        },
        "id": "5EDAEU7lDsy4",
        "outputId": "879afedf-2d1f-4713-8e05-1b6cb9e6bb5a"
      },
      "execution_count": 6,
      "outputs": [
        {
          "output_type": "execute_result",
          "data": {
            "text/plain": [
              "<SparkContext master=local[*] appName=pyspark-shell>"
            ],
            "text/html": [
              "\n",
              "        <div>\n",
              "            <p><b>SparkContext</b></p>\n",
              "\n",
              "            <p><a href=\"http://27dcc9dedd46:4040\">Spark UI</a></p>\n",
              "\n",
              "            <dl>\n",
              "              <dt>Version</dt>\n",
              "                <dd><code>v2.4.1</code></dd>\n",
              "              <dt>Master</dt>\n",
              "                <dd><code>local[*]</code></dd>\n",
              "              <dt>AppName</dt>\n",
              "                <dd><code>pyspark-shell</code></dd>\n",
              "            </dl>\n",
              "        </div>\n",
              "        "
            ]
          },
          "metadata": {},
          "execution_count": 6
        }
      ]
    },
    {
      "cell_type": "markdown",
      "source": [
        "## Lab 1"
      ],
      "metadata": {
        "id": "GAeWCoxXD6P_"
      }
    },
    {
      "cell_type": "markdown",
      "source": [
        "Create a local collection of colors first, a Python list\n"
      ],
      "metadata": {
        "id": "_t_Sza8pED1c"
      }
    },
    {
      "cell_type": "code",
      "source": [
        "colors = ['white','green','yellow','red','brown','pink'] "
      ],
      "metadata": {
        "id": "XVr1RZoED9iA"
      },
      "execution_count": 7,
      "outputs": []
    },
    {
      "cell_type": "markdown",
      "source": [
        "Distribute the local collection to be an RDD. \n"
      ],
      "metadata": {
        "id": "LMTw75MFEEQQ"
      }
    },
    {
      "cell_type": "code",
      "source": [
        "color_rdd = sc.parallelize(colors)\n"
      ],
      "metadata": {
        "id": "xPQUqdvPD9n-"
      },
      "execution_count": 8,
      "outputs": []
    },
    {
      "cell_type": "markdown",
      "source": [
        "Apply map function on that RDD to get another RDD containing color, length tuples."
      ],
      "metadata": {
        "id": "ilxFWSdBEE_g"
      }
    },
    {
      "cell_type": "code",
      "source": [
        "keyval_rdd = color_rdd.map(lambda x:(x,len(x)))\n"
      ],
      "metadata": {
        "id": "gj4apYTMEDCd"
      },
      "execution_count": 9,
      "outputs": []
    },
    {
      "cell_type": "markdown",
      "source": [
        "Convert the last RDD to a DataFrame \n"
      ],
      "metadata": {
        "id": "Jv2am6KGENoz"
      }
    },
    {
      "cell_type": "code",
      "source": [
        "color_df = keyval_rdd.toDF(['color','length']) \n",
        "color_df"
      ],
      "metadata": {
        "colab": {
          "base_uri": "https://localhost:8080/"
        },
        "id": "85qCtD-yEOfE",
        "outputId": "3e26c129-3455-4c69-9447-3377191499f2"
      },
      "execution_count": 10,
      "outputs": [
        {
          "output_type": "execute_result",
          "data": {
            "text/plain": [
              "DataFrame[color: string, length: bigint]"
            ]
          },
          "metadata": {},
          "execution_count": 10
        }
      ]
    },
    {
      "cell_type": "code",
      "source": [
        "color_df.printSchema()"
      ],
      "metadata": {
        "colab": {
          "base_uri": "https://localhost:8080/"
        },
        "id": "h0bu1wZ9EU48",
        "outputId": "888b94c0-5271-4631-c27c-f9aed5e074db"
      },
      "execution_count": 11,
      "outputs": [
        {
          "output_type": "stream",
          "name": "stdout",
          "text": [
            "root\n",
            " |-- color: string (nullable = true)\n",
            " |-- length: long (nullable = true)\n",
            "\n"
          ]
        }
      ]
    },
    {
      "cell_type": "code",
      "source": [
        "color_df.count() \n"
      ],
      "metadata": {
        "colab": {
          "base_uri": "https://localhost:8080/"
        },
        "id": "n-5OxJE9EVuT",
        "outputId": "a527ebb7-bba3-4e8a-e96c-f55a482661b1"
      },
      "execution_count": 12,
      "outputs": [
        {
          "output_type": "execute_result",
          "data": {
            "text/plain": [
              "6"
            ]
          },
          "metadata": {},
          "execution_count": 12
        }
      ]
    },
    {
      "cell_type": "markdown",
      "source": [
        "Look at the table contents. You can limit displayed rows by passing parameter to show."
      ],
      "metadata": {
        "id": "ueoQzju2EXhk"
      }
    },
    {
      "cell_type": "code",
      "source": [
        "color_df.show(2)\n"
      ],
      "metadata": {
        "colab": {
          "base_uri": "https://localhost:8080/"
        },
        "id": "Q5ZjPuxGEY62",
        "outputId": "a4dffc19-c124-4664-f46b-55ee24861745"
      },
      "execution_count": 13,
      "outputs": [
        {
          "output_type": "stream",
          "name": "stdout",
          "text": [
            "+-----+------+\n",
            "|color|length|\n",
            "+-----+------+\n",
            "|white|     5|\n",
            "|green|     5|\n",
            "+-----+------+\n",
            "only showing top 2 rows\n",
            "\n"
          ]
        }
      ]
    },
    {
      "cell_type": "code",
      "source": [
        "color_df.columns\n"
      ],
      "metadata": {
        "colab": {
          "base_uri": "https://localhost:8080/"
        },
        "id": "7i8p9cjNEbui",
        "outputId": "d88909ab-e6c7-404d-9076-83e96dd7fc5a"
      },
      "execution_count": 14,
      "outputs": [
        {
          "output_type": "execute_result",
          "data": {
            "text/plain": [
              "['color', 'length']"
            ]
          },
          "metadata": {},
          "execution_count": 14
        }
      ]
    },
    {
      "cell_type": "code",
      "source": [
        "color_df.drop('length').show() \n"
      ],
      "metadata": {
        "colab": {
          "base_uri": "https://localhost:8080/"
        },
        "id": "sAmakJ9bEdRX",
        "outputId": "24319973-00d1-42ed-e3a5-3552f25cc809"
      },
      "execution_count": 15,
      "outputs": [
        {
          "output_type": "stream",
          "name": "stdout",
          "text": [
            "+------+\n",
            "| color|\n",
            "+------+\n",
            "| white|\n",
            "| green|\n",
            "|yellow|\n",
            "|   red|\n",
            "| brown|\n",
            "|  pink|\n",
            "+------+\n",
            "\n"
          ]
        }
      ]
    },
    {
      "cell_type": "code",
      "source": [
        "color_df.filter(color_df.length.between(4,5))\\\n",
        ".select(color_df.color.alias(\"mid_length\")).show()\n"
      ],
      "metadata": {
        "colab": {
          "base_uri": "https://localhost:8080/"
        },
        "id": "ur8rzBD5Efrw",
        "outputId": "5e4af543-2ead-4334-d2a7-210d2efb7ab0"
      },
      "execution_count": 16,
      "outputs": [
        {
          "output_type": "stream",
          "name": "stdout",
          "text": [
            "+----------+\n",
            "|mid_length|\n",
            "+----------+\n",
            "|     white|\n",
            "|     green|\n",
            "|     brown|\n",
            "|      pink|\n",
            "+----------+\n",
            "\n"
          ]
        }
      ]
    },
    {
      "cell_type": "code",
      "source": [
        "color_df.filter(color_df.length > 4) .filter(color_df[0]!=\"white\").show()\n"
      ],
      "metadata": {
        "colab": {
          "base_uri": "https://localhost:8080/"
        },
        "id": "RThclrxqEiSz",
        "outputId": "95bb6165-bb29-4ce9-d69e-c9c0f19aec3b"
      },
      "execution_count": 17,
      "outputs": [
        {
          "output_type": "stream",
          "name": "stdout",
          "text": [
            "+------+------+\n",
            "| color|length|\n",
            "+------+------+\n",
            "| green|     5|\n",
            "|yellow|     6|\n",
            "| brown|     5|\n",
            "+------+------+\n",
            "\n"
          ]
        }
      ]
    },
    {
      "cell_type": "code",
      "source": [
        "color_df.filter((color_df.length > 4)&(color_df[0]!=\"white\")).show()\n"
      ],
      "metadata": {
        "colab": {
          "base_uri": "https://localhost:8080/"
        },
        "id": "RlkZM1p4Ejo3",
        "outputId": "1815e8e2-b986-4a74-8527-5aff96dcd7be"
      },
      "execution_count": 18,
      "outputs": [
        {
          "output_type": "stream",
          "name": "stdout",
          "text": [
            "+------+------+\n",
            "| color|length|\n",
            "+------+------+\n",
            "| green|     5|\n",
            "|yellow|     6|\n",
            "| brown|     5|\n",
            "+------+------+\n",
            "\n"
          ]
        }
      ]
    },
    {
      "cell_type": "code",
      "source": [
        "color_df.filter(color_df['length']>=4).sort(\"length\", 'color',ascending=False).show()"
      ],
      "metadata": {
        "colab": {
          "base_uri": "https://localhost:8080/"
        },
        "id": "qU1wKNhrElyc",
        "outputId": "26cf1716-74f0-46c3-99e2-491f1507ee12"
      },
      "execution_count": 19,
      "outputs": [
        {
          "output_type": "stream",
          "name": "stdout",
          "text": [
            "+------+------+\n",
            "| color|length|\n",
            "+------+------+\n",
            "|yellow|     6|\n",
            "| white|     5|\n",
            "| green|     5|\n",
            "| brown|     5|\n",
            "|  pink|     4|\n",
            "+------+------+\n",
            "\n"
          ]
        }
      ]
    },
    {
      "cell_type": "code",
      "source": [
        "color_df.orderBy('length','color').take(4)\n"
      ],
      "metadata": {
        "colab": {
          "base_uri": "https://localhost:8080/"
        },
        "id": "cFatqDGmEne1",
        "outputId": "f3668eed-0945-4fb1-d942-1869eeb3ca86"
      },
      "execution_count": 20,
      "outputs": [
        {
          "output_type": "execute_result",
          "data": {
            "text/plain": [
              "[Row(color='red', length=3),\n",
              " Row(color='pink', length=4),\n",
              " Row(color='brown', length=5),\n",
              " Row(color='green', length=5)]"
            ]
          },
          "metadata": {},
          "execution_count": 20
        }
      ]
    },
    {
      "cell_type": "code",
      "source": [
        "color_df.sort(color_df.length.desc(),\\\n",
        "color_df.color.asc()).show()\n"
      ],
      "metadata": {
        "colab": {
          "base_uri": "https://localhost:8080/"
        },
        "id": "p3J5wjyIEpEK",
        "outputId": "3711544c-a656-49d9-ae73-b4b950a5e1ac"
      },
      "execution_count": 21,
      "outputs": [
        {
          "output_type": "stream",
          "name": "stdout",
          "text": [
            "+------+------+\n",
            "| color|length|\n",
            "+------+------+\n",
            "|yellow|     6|\n",
            "| brown|     5|\n",
            "| green|     5|\n",
            "| white|     5|\n",
            "|  pink|     4|\n",
            "|   red|     3|\n",
            "+------+------+\n",
            "\n"
          ]
        }
      ]
    },
    {
      "cell_type": "code",
      "source": [
        "color_df.groupBy('length').count().show()\n"
      ],
      "metadata": {
        "colab": {
          "base_uri": "https://localhost:8080/"
        },
        "id": "BUnHgv97ErrD",
        "outputId": "6c011f0b-58de-4bbc-ef47-f895404501ab"
      },
      "execution_count": 22,
      "outputs": [
        {
          "output_type": "stream",
          "name": "stdout",
          "text": [
            "+------+-----+\n",
            "|length|count|\n",
            "+------+-----+\n",
            "|     6|    1|\n",
            "|     5|    3|\n",
            "|     3|    1|\n",
            "|     4|    1|\n",
            "+------+-----+\n",
            "\n"
          ]
        }
      ]
    },
    {
      "cell_type": "code",
      "source": [
        "color_df.describe().show()\n"
      ],
      "metadata": {
        "colab": {
          "base_uri": "https://localhost:8080/"
        },
        "id": "lka4SxeWEusy",
        "outputId": "abf859c3-15f3-43af-f8a7-7729567204cd"
      },
      "execution_count": 23,
      "outputs": [
        {
          "output_type": "stream",
          "name": "stdout",
          "text": [
            "+-------+------+------------------+\n",
            "|summary| color|            length|\n",
            "+-------+------+------------------+\n",
            "|  count|     6|                 6|\n",
            "|   mean|  null| 4.666666666666667|\n",
            "| stddev|  null|1.0327955589886444|\n",
            "|    min| brown|                 3|\n",
            "|    max|yellow|                 6|\n",
            "+-------+------+------------------+\n",
            "\n"
          ]
        }
      ]
    }
  ]
}